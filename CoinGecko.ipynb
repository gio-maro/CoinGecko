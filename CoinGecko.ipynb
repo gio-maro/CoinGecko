{
 "cells": [
  {
   "cell_type": "code",
   "execution_count": 1,
   "id": "f5ffdc28",
   "metadata": {},
   "outputs": [
    {
     "name": "stdout",
     "output_type": "stream",
     "text": [
      "Defaulting to user installation because normal site-packages is not writeable\n",
      "Requirement already satisfied: requests in ./.local/lib/python3.10/site-packages (2.32.3)\n",
      "Requirement already satisfied: charset-normalizer<4,>=2 in ./.local/lib/python3.10/site-packages (from requests) (3.4.1)\n",
      "Requirement already satisfied: idna<4,>=2.5 in ./.local/lib/python3.10/site-packages (from requests) (3.4)\n",
      "Requirement already satisfied: urllib3<3,>=1.21.1 in ./.local/lib/python3.10/site-packages (from requests) (2.4.0)\n",
      "Requirement already satisfied: certifi>=2017.4.17 in ./.local/lib/python3.10/site-packages (from requests) (2025.1.31)\n",
      "Note: you may need to restart the kernel to use updated packages.\n"
     ]
    }
   ],
   "source": [
    "pip install requests"
   ]
  },
  {
   "cell_type": "code",
   "execution_count": 2,
   "id": "08ef5f7d",
   "metadata": {},
   "outputs": [
    {
     "name": "stdout",
     "output_type": "stream",
     "text": [
      "Defaulting to user installation because normal site-packages is not writeable\n",
      "Requirement already satisfied: matplotlib in ./.local/lib/python3.10/site-packages (3.10.1)\n",
      "Requirement already satisfied: cycler>=0.10 in ./.local/lib/python3.10/site-packages (from matplotlib) (0.12.1)\n",
      "Requirement already satisfied: numpy>=1.23 in ./.local/lib/python3.10/site-packages (from matplotlib) (2.2.5)\n",
      "Requirement already satisfied: packaging>=20.0 in ./.local/lib/python3.10/site-packages (from matplotlib) (21.3)\n",
      "Requirement already satisfied: contourpy>=1.0.1 in ./.local/lib/python3.10/site-packages (from matplotlib) (1.3.2)\n",
      "Requirement already satisfied: pillow>=8 in ./.local/lib/python3.10/site-packages (from matplotlib) (11.2.1)\n",
      "Requirement already satisfied: python-dateutil>=2.7 in ./.local/lib/python3.10/site-packages (from matplotlib) (2.8.2)\n",
      "Requirement already satisfied: pyparsing>=2.3.1 in ./.local/lib/python3.10/site-packages (from matplotlib) (3.0.9)\n",
      "Requirement already satisfied: kiwisolver>=1.3.1 in ./.local/lib/python3.10/site-packages (from matplotlib) (1.4.8)\n",
      "Requirement already satisfied: fonttools>=4.22.0 in ./.local/lib/python3.10/site-packages (from matplotlib) (4.57.0)\n",
      "Requirement already satisfied: six>=1.5 in ./.local/lib/python3.10/site-packages (from python-dateutil>=2.7->matplotlib) (1.16.0)\n",
      "Note: you may need to restart the kernel to use updated packages.\n"
     ]
    }
   ],
   "source": [
    "pip install matplotlib"
   ]
  },
  {
   "cell_type": "code",
   "execution_count": 3,
   "id": "ae929508",
   "metadata": {},
   "outputs": [
    {
     "name": "stdout",
     "output_type": "stream",
     "text": [
      "Defaulting to user installation because normal site-packages is not writeable\n",
      "Requirement already satisfied: pandas in ./.local/lib/python3.10/site-packages (2.2.3)\n",
      "Requirement already satisfied: tzdata>=2022.7 in ./.local/lib/python3.10/site-packages (from pandas) (2025.2)\n",
      "Requirement already satisfied: pytz>=2020.1 in ./.local/lib/python3.10/site-packages (from pandas) (2025.2)\n",
      "Requirement already satisfied: python-dateutil>=2.8.2 in ./.local/lib/python3.10/site-packages (from pandas) (2.8.2)\n",
      "Requirement already satisfied: numpy>=1.22.4 in ./.local/lib/python3.10/site-packages (from pandas) (2.2.5)\n",
      "Requirement already satisfied: six>=1.5 in ./.local/lib/python3.10/site-packages (from python-dateutil>=2.8.2->pandas) (1.16.0)\n",
      "Note: you may need to restart the kernel to use updated packages.\n"
     ]
    }
   ],
   "source": [
    "pip install pandas"
   ]
  },
  {
   "cell_type": "code",
   "execution_count": 4,
   "id": "847f3406",
   "metadata": {},
   "outputs": [
    {
     "name": "stdout",
     "output_type": "stream",
     "text": [
      ":: loading settings :: url = jar:file:/home/docker/.local/lib/python3.10/site-packages/pyspark/jars/ivy-2.5.0.jar!/org/apache/ivy/core/settings/ivysettings.xml\n"
     ]
    },
    {
     "name": "stderr",
     "output_type": "stream",
     "text": [
      "Ivy Default Cache set to: /home/docker/.ivy2/cache\n",
      "The jars for the packages stored in: /home/docker/.ivy2/jars\n",
      "org.apache.iceberg#iceberg-spark-runtime-3.3_2.12 added as a dependency\n",
      "software.amazon.awssdk#bundle added as a dependency\n",
      "software.amazon.awssdk#url-connection-client added as a dependency\n",
      ":: resolving dependencies :: org.apache.spark#spark-submit-parent-9b520ba1-522e-4a7f-8ad9-4d599f4d5b56;1.0\n",
      "\tconfs: [default]\n",
      "\tfound org.apache.iceberg#iceberg-spark-runtime-3.3_2.12;1.4.3 in central\n",
      "\tfound software.amazon.awssdk#bundle;2.17.178 in central\n",
      "\tfound software.amazon.eventstream#eventstream;1.0.1 in central\n",
      "\tfound software.amazon.awssdk#url-connection-client;2.17.178 in central\n",
      "\tfound software.amazon.awssdk#utils;2.17.178 in central\n",
      "\tfound org.reactivestreams#reactive-streams;1.0.3 in central\n",
      "\tfound software.amazon.awssdk#annotations;2.17.178 in central\n",
      "\tfound org.slf4j#slf4j-api;1.7.30 in central\n",
      "\tfound software.amazon.awssdk#http-client-spi;2.17.178 in central\n",
      "\tfound software.amazon.awssdk#metrics-spi;2.17.178 in central\n",
      ":: resolution report :: resolve 578ms :: artifacts dl 30ms\n",
      "\t:: modules in use:\n",
      "\torg.apache.iceberg#iceberg-spark-runtime-3.3_2.12;1.4.3 from central in [default]\n",
      "\torg.reactivestreams#reactive-streams;1.0.3 from central in [default]\n",
      "\torg.slf4j#slf4j-api;1.7.30 from central in [default]\n",
      "\tsoftware.amazon.awssdk#annotations;2.17.178 from central in [default]\n",
      "\tsoftware.amazon.awssdk#bundle;2.17.178 from central in [default]\n",
      "\tsoftware.amazon.awssdk#http-client-spi;2.17.178 from central in [default]\n",
      "\tsoftware.amazon.awssdk#metrics-spi;2.17.178 from central in [default]\n",
      "\tsoftware.amazon.awssdk#url-connection-client;2.17.178 from central in [default]\n",
      "\tsoftware.amazon.awssdk#utils;2.17.178 from central in [default]\n",
      "\tsoftware.amazon.eventstream#eventstream;1.0.1 from central in [default]\n",
      "\t---------------------------------------------------------------------\n",
      "\t|                  |            modules            ||   artifacts   |\n",
      "\t|       conf       | number| search|dwnlded|evicted|| number|dwnlded|\n",
      "\t---------------------------------------------------------------------\n",
      "\t|      default     |   10  |   0   |   0   |   0   ||   10  |   0   |\n",
      "\t---------------------------------------------------------------------\n",
      ":: retrieving :: org.apache.spark#spark-submit-parent-9b520ba1-522e-4a7f-8ad9-4d599f4d5b56\n",
      "\tconfs: [default]\n",
      "\t0 artifacts copied, 10 already retrieved (0kB/15ms)\n"
     ]
    },
    {
     "name": "stdout",
     "output_type": "stream",
     "text": [
      "25/04/25 23:12:36 WARN NativeCodeLoader: Unable to load native-hadoop library for your platform... using builtin-java classes where applicable\n"
     ]
    },
    {
     "name": "stderr",
     "output_type": "stream",
     "text": [
      "Setting default log level to \"WARN\".\n",
      "To adjust logging level use sc.setLogLevel(newLevel). For SparkR, use setLogLevel(newLevel).\n"
     ]
    },
    {
     "name": "stdout",
     "output_type": "stream",
     "text": [
      "Spark Running\n"
     ]
    }
   ],
   "source": [
    "import os\n",
    "\n",
    "import pyspark\n",
    "from pyspark.sql import SparkSession\n",
    "\n",
    "conf = (\n",
    "    pyspark.SparkConf()\n",
    "        .setAppName('app_name')\n",
    "        #packages\n",
    "        .set('spark.jars.packages', 'org.apache.iceberg:iceberg-spark-runtime-3.3_2.12:1.4.3,software.amazon.awssdk:bundle:2.17.178,software.amazon.awssdk:url-connection-client:2.17.178')\n",
    "        #SQL Extensions\n",
    "        .set('spark.sql.extensions', 'org.apache.iceberg.spark.extensions.IcebergSparkSessionExtensions')\n",
    "        #Configuring Catalog\n",
    "        .set('spark.sql.catalog.iceberg', 'org.apache.iceberg.spark.SparkCatalog')\n",
    "        .set('spark.sql.catalog.iceberg.type', 'hadoop')\n",
    "        .set('spark.sql.catalog.iceberg.warehouse', 'iceberg-warehouse')\n",
    ")\n",
    "\n",
    "## Start Spark Session\n",
    "spark = SparkSession.builder.config(conf=conf).getOrCreate()\n",
    "print(\"Spark Running\")"
   ]
  },
  {
   "cell_type": "code",
   "execution_count": 5,
   "id": "8e16acad",
   "metadata": {},
   "outputs": [],
   "source": [
    "#Retrieve a list of all cryptocurrencies with id, name, and symbol (using the CoinGecko API)\n",
    "\n",
    "import requests\n",
    "\n",
    "apiKey=\"?x_cg_demo_api_key=CG-n6T33SZ3joMrNew9wNCsAmtn\"\n",
    "url = \"https://api.coingecko.com/api/v3/coins/list\"+apiKey\n",
    "\n",
    "headers = {\"accept\": \"application/json\"}\n",
    "response = requests.get(url, headers=headers)\n",
    "\n",
    "respuesta=response.text"
   ]
  },
  {
   "cell_type": "code",
   "execution_count": 7,
   "id": "25b3e4fa",
   "metadata": {},
   "outputs": [
    {
     "data": {
      "text/plain": [
       "16988"
      ]
     },
     "execution_count": 7,
     "metadata": {},
     "output_type": "execute_result"
    }
   ],
   "source": [
    "import json\n",
    "#Cargar la respuesta en un JSON\n",
    "lista = json.loads(respuesta)\n",
    "\n",
    "#longitud del arreglo\n",
    "len(lista)"
   ]
  },
  {
   "cell_type": "code",
   "execution_count": 8,
   "id": "c9895f6d",
   "metadata": {},
   "outputs": [
    {
     "name": "stderr",
     "output_type": "stream",
     "text": [
      "                                                                                \r"
     ]
    },
    {
     "name": "stdout",
     "output_type": "stream",
     "text": [
      "+--------------------+--------------------+------+\n",
      "|                  id|                name|symbol|\n",
      "+--------------------+--------------------+------+\n",
      "|                   _|        ༼ つ ◕_◕ ༽つ|   gib|\n",
      "|              01coin|              01coin|   zoc|\n",
      "|              0chain|                 Zus|   zcn|\n",
      "|                0dog|        Bitcoin Dogs|  0dog|\n",
      "| 0-knowledge-network| 0 Knowledge Network|   0kn|\n",
      "|               0-mee|               O-MEE|   ome|\n",
      "|       0vix-protocol|       0VIX Protocol|   vix|\n",
      "|                  0x|         0x Protocol|   zrx|\n",
      "|0x0-ai-ai-smart-c...|0x0.ai: AI Smart ...|   0x0|\n",
      "| 0x678-landwolf-1933|            Landwolf|  wolf|\n",
      "|              0xcoco|              0xCoco|  coco|\n",
      "|         0xgasless-2|           0xGasless| 0xgas|\n",
      "|               0xgen|               0xGen|   xgn|\n",
      "|         0x-leverage|         0x Leverage|   oxl|\n",
      "|                0xlp|       OpenLiquidity|openli|\n",
      "|               0xlsd|               0xLSD| 0xlsd|\n",
      "|              0xmonk|  0xMonk by Virtuals|  monk|\n",
      "|            0xnumber|            0xNumber|   oxn|\n",
      "|           0xprivacy|           0xPrivacy|   0xp|\n",
      "|             0xscans|             0xScans|  scan|\n",
      "+--------------------+--------------------+------+\n",
      "only showing top 20 rows\n",
      "\n"
     ]
    },
    {
     "name": "stderr",
     "output_type": "stream",
     "text": [
      "                                                                                \r"
     ]
    },
    {
     "data": {
      "text/plain": [
       "16988"
      ]
     },
     "execution_count": 8,
     "metadata": {},
     "output_type": "execute_result"
    }
   ],
   "source": [
    "#Creación del dataframe y verificar la cifra\n",
    "dfLista = spark.createDataFrame(lista)\n",
    "dfLista.show()\n",
    "dfLista.count()"
   ]
  },
  {
   "cell_type": "code",
   "execution_count": 11,
   "id": "c3eeb346",
   "metadata": {},
   "outputs": [
    {
     "name": "stderr",
     "output_type": "stream",
     "text": [
      "                                                                                \r"
     ]
    },
    {
     "name": "stdout",
     "output_type": "stream",
     "text": [
      "+--------------------+--------------------+------+\n",
      "|                  id|                name|symbol|\n",
      "+--------------------+--------------------+------+\n",
      "|                   _|        ༼ つ ◕_◕ ༽つ|   gib|\n",
      "|              01coin|              01coin|   zoc|\n",
      "|              0chain|                 Zus|   zcn|\n",
      "|                0dog|        Bitcoin Dogs|  0dog|\n",
      "| 0-knowledge-network| 0 Knowledge Network|   0kn|\n",
      "|               0-mee|               O-MEE|   ome|\n",
      "|       0vix-protocol|       0VIX Protocol|   vix|\n",
      "|                  0x|         0x Protocol|   zrx|\n",
      "|0x0-ai-ai-smart-c...|0x0.ai: AI Smart ...|   0x0|\n",
      "| 0x678-landwolf-1933|            Landwolf|  wolf|\n",
      "|              0xcoco|              0xCoco|  coco|\n",
      "|         0xgasless-2|           0xGasless| 0xgas|\n",
      "|               0xgen|               0xGen|   xgn|\n",
      "|         0x-leverage|         0x Leverage|   oxl|\n",
      "|                0xlp|       OpenLiquidity|openli|\n",
      "|               0xlsd|               0xLSD| 0xlsd|\n",
      "|              0xmonk|  0xMonk by Virtuals|  monk|\n",
      "|            0xnumber|            0xNumber|   oxn|\n",
      "|           0xprivacy|           0xPrivacy|   0xp|\n",
      "|             0xscans|             0xScans|  scan|\n",
      "+--------------------+--------------------+------+\n",
      "only showing top 20 rows\n",
      "\n",
      "+--------+\n",
      "|count(1)|\n",
      "+--------+\n",
      "|   16988|\n",
      "+--------+\n",
      "\n"
     ]
    }
   ],
   "source": [
    "#Crear la tabla Iceberg\n",
    "spark.sql(\"CREATE TABLE iceberg.AllCrytoCurrencies (id string, symbol string, name string) USING iceberg;\")\n",
    "\n",
    "# Cambiar de DataFrame a Tabla Iceberg\n",
    "dfLista.writeTo(\"iceberg.AllCrytoCurrencies\").using(\"iceberg\").createOrReplace()\n",
    "\n",
    "# Query para visualizar la información\n",
    "spark.sql(\"SELECT * FROM iceberg.AllCrytoCurrencies\").show()\n",
    "# Query para contar el número de registros\n",
    "spark.sql(\"SELECT count(*) FROM iceberg.AllCrytoCurrencies\").show()"
   ]
  },
  {
   "cell_type": "code",
   "execution_count": 12,
   "id": "ae0fc010",
   "metadata": {},
   "outputs": [
    {
     "name": "stdout",
     "output_type": "stream",
     "text": [
      "+-------+\n",
      "|     id|\n",
      "+-------+\n",
      "|bitcoin|\n",
      "+-------+\n",
      "\n"
     ]
    }
   ],
   "source": [
    "#Retrieve the Bitcoin coin id\n",
    "spark.sql(\"SELECT id FROM iceberg.AllCrytoCurrencies where name ='Bitcoin'\").show()"
   ]
  },
  {
   "cell_type": "code",
   "execution_count": 13,
   "id": "1d63e1b4",
   "metadata": {},
   "outputs": [],
   "source": [
    "#Get Bitcoin’s price in USD and by date for the last quarter of 2024 (using the CoinGecko API)\n",
    "#No fue posible el primer trimestre de 2022 debido a que se necesita un perfil de pago\n",
    "apiKey=\"?x_cg_demo_api_key=CG-n6T33SZ3joMrNew9wNCsAmtn\"\n",
    "url = \"https://api.coingecko.com/api/v3/coins/bitcoin/market_chart/range?vs_currency=usd&from=1725148800&to=1735689599\"+apiKey\n",
    "\n",
    "headers = {\"accept\": \"application/json\"}\n",
    "response = requests.get(url, headers=headers)\n",
    "\n",
    "respuestaUSD=response.text"
   ]
  },
  {
   "cell_type": "code",
   "execution_count": 14,
   "id": "537fe851",
   "metadata": {},
   "outputs": [],
   "source": [
    "#Cargar la respuesta en un JSON\n",
    "listaUSD = json.loads(respuestaUSD)"
   ]
  },
  {
   "cell_type": "code",
   "execution_count": 16,
   "id": "0e4af0da",
   "metadata": {},
   "outputs": [],
   "source": [
    "#cambiar el formato de la fecha\n",
    "import time\n",
    "\n",
    "listaUSDate=[]\n",
    "for lis in listaUSD[\"prices\"]:\n",
    "    listaUSDate.append({\"fecha\":time.strftime(\"%Y-%m-%d %H:%M:%S\", time.gmtime(int(str(lis[0])[:-3]))),\n",
    "                        \"USD\":lis[1]})"
   ]
  },
  {
   "cell_type": "code",
   "execution_count": 17,
   "id": "31b36b1a",
   "metadata": {},
   "outputs": [
    {
     "data": {
      "text/plain": [
       "[{'fecha': '2024-09-01 00:00:00', 'USD': 58960.23658664587},\n",
       " {'fecha': '2024-09-02 00:00:00', 'USD': 57357.71617282246},\n",
       " {'fecha': '2024-09-03 00:00:00', 'USD': 59108.73235863689},\n",
       " {'fecha': '2024-09-04 00:00:00', 'USD': 57504.538586220435},\n",
       " {'fecha': '2024-09-05 00:00:00', 'USD': 57987.84601410068},\n",
       " {'fecha': '2024-09-06 00:00:00', 'USD': 56132.404732088595},\n",
       " {'fecha': '2024-09-07 00:00:00', 'USD': 53923.35611071905},\n",
       " {'fecha': '2024-09-08 00:00:00', 'USD': 54150.9383589072},\n",
       " {'fecha': '2024-09-09 00:00:00', 'USD': 54792.40755768575},\n",
       " {'fecha': '2024-09-10 00:00:00', 'USD': 57049.118751143265},\n",
       " {'fecha': '2024-09-11 00:00:00', 'USD': 57624.16178336144},\n",
       " {'fecha': '2024-09-12 00:00:00', 'USD': 57381.764445000474},\n",
       " {'fecha': '2024-09-13 00:00:00', 'USD': 58106.951229815284},\n",
       " {'fecha': '2024-09-14 00:00:00', 'USD': 60620.62747295754},\n",
       " {'fecha': '2024-09-15 00:00:00', 'USD': 60003.29940083042},\n",
       " {'fecha': '2024-09-16 00:00:00', 'USD': 59214.80226801806},\n",
       " {'fecha': '2024-09-17 00:00:00', 'USD': 58211.123231286256},\n",
       " {'fecha': '2024-09-18 00:00:00', 'USD': 60317.0319794625},\n",
       " {'fecha': '2024-09-19 00:00:00', 'USD': 61440.41208494509},\n",
       " {'fecha': '2024-09-20 00:00:00', 'USD': 62966.52931910512},\n",
       " {'fecha': '2024-09-21 00:00:00', 'USD': 63128.224540748255},\n",
       " {'fecha': '2024-09-22 00:00:00', 'USD': 63403.402349259355},\n",
       " {'fecha': '2024-09-23 00:00:00', 'USD': 63582.59956924825},\n",
       " {'fecha': '2024-09-24 00:00:00', 'USD': 63327.02654450202},\n",
       " {'fecha': '2024-09-25 00:00:00', 'USD': 64334.14274876097},\n",
       " {'fecha': '2024-09-26 00:00:00', 'USD': 63151.89959401337},\n",
       " {'fecha': '2024-09-27 00:00:00', 'USD': 65130.76884023231},\n",
       " {'fecha': '2024-09-28 00:00:00', 'USD': 65791.00212541742},\n",
       " {'fecha': '2024-09-29 00:00:00', 'USD': 65934.10709441357},\n",
       " {'fecha': '2024-09-30 00:00:00', 'USD': 65663.68986662335},\n",
       " {'fecha': '2024-10-01 00:00:00', 'USD': 63243.27532464382},\n",
       " {'fecha': '2024-10-02 00:00:00', 'USD': 60872.668543725544},\n",
       " {'fecha': '2024-10-03 00:00:00', 'USD': 60655.55979196848},\n",
       " {'fecha': '2024-10-04 00:00:00', 'USD': 60727.86395169296},\n",
       " {'fecha': '2024-10-05 00:00:00', 'USD': 62103.01047283253},\n",
       " {'fecha': '2024-10-06 00:00:00', 'USD': 62091.932585194016},\n",
       " {'fecha': '2024-10-07 00:00:00', 'USD': 62811.79972811266},\n",
       " {'fecha': '2024-10-08 00:00:00', 'USD': 62287.39010510681},\n",
       " {'fecha': '2024-10-09 00:00:00', 'USD': 62185.230423727575},\n",
       " {'fecha': '2024-10-10 00:00:00', 'USD': 60597.15045618275},\n",
       " {'fecha': '2024-10-11 00:00:00', 'USD': 60195.18073772453},\n",
       " {'fecha': '2024-10-12 00:00:00', 'USD': 62392.34048293159},\n",
       " {'fecha': '2024-10-13 00:00:00', 'USD': 63207.77062127557},\n",
       " {'fecha': '2024-10-14 00:00:00', 'USD': 62829.533686088886},\n",
       " {'fecha': '2024-10-15 00:00:00', 'USD': 66049.99492708022},\n",
       " {'fecha': '2024-10-16 00:00:00', 'USD': 66962.21994496793},\n",
       " {'fecha': '2024-10-17 00:00:00', 'USD': 67647.54414766871},\n",
       " {'fecha': '2024-10-18 00:00:00', 'USD': 67328.10527002988},\n",
       " {'fecha': '2024-10-19 00:00:00', 'USD': 68465.61920668735},\n",
       " {'fecha': '2024-10-20 00:00:00', 'USD': 68388.87128965274},\n",
       " {'fecha': '2024-10-21 00:00:00', 'USD': 68962.82918045693},\n",
       " {'fecha': '2024-10-22 00:00:00', 'USD': 67394.85775735618},\n",
       " {'fecha': '2024-10-23 00:00:00', 'USD': 67351.04793512498},\n",
       " {'fecha': '2024-10-24 00:00:00', 'USD': 66683.96806542306},\n",
       " {'fecha': '2024-10-25 00:00:00', 'USD': 68214.05205157402},\n",
       " {'fecha': '2024-10-26 00:00:00', 'USD': 66585.66535501445},\n",
       " {'fecha': '2024-10-27 00:00:00', 'USD': 67018.1650170265},\n",
       " {'fecha': '2024-10-28 00:00:00', 'USD': 67938.55412885673},\n",
       " {'fecha': '2024-10-29 00:00:00', 'USD': 69845.304531169},\n",
       " {'fecha': '2024-10-30 00:00:00', 'USD': 72781.11308158132},\n",
       " {'fecha': '2024-10-31 00:00:00', 'USD': 72342.62171127986},\n",
       " {'fecha': '2024-11-01 00:00:00', 'USD': 70264.99735573279},\n",
       " {'fecha': '2024-11-02 00:00:00', 'USD': 69507.92256395647},\n",
       " {'fecha': '2024-11-03 00:00:00', 'USD': 69299.16036699413},\n",
       " {'fecha': '2024-11-04 00:00:00', 'USD': 68803.50626277467},\n",
       " {'fecha': '2024-11-05 00:00:00', 'USD': 67793.29782704762},\n",
       " {'fecha': '2024-11-06 00:00:00', 'USD': 69335.42553133758},\n",
       " {'fecha': '2024-11-07 00:00:00', 'USD': 75620.88606963192},\n",
       " {'fecha': '2024-11-08 00:00:00', 'USD': 75987.24178320667},\n",
       " {'fecha': '2024-11-09 00:00:00', 'USD': 76550.0213845611},\n",
       " {'fecha': '2024-11-10 00:00:00', 'USD': 76630.22631415377},\n",
       " {'fecha': '2024-11-11 00:00:00', 'USD': 80466.71654833542},\n",
       " {'fecha': '2024-11-12 00:00:00', 'USD': 88637.42000322911},\n",
       " {'fecha': '2024-11-13 00:00:00', 'USD': 88264.59974582895},\n",
       " {'fecha': '2024-11-14 00:00:00', 'USD': 90488.10007497849},\n",
       " {'fecha': '2024-11-15 00:00:00', 'USD': 87407.51273710128},\n",
       " {'fecha': '2024-11-16 00:00:00', 'USD': 90947.97509443703},\n",
       " {'fecha': '2024-11-17 00:00:00', 'USD': 90606.45489380708},\n",
       " {'fecha': '2024-11-18 00:00:00', 'USD': 89841.47194135105},\n",
       " {'fecha': '2024-11-19 00:00:00', 'USD': 90534.62459650292},\n",
       " {'fecha': '2024-11-20 00:00:00', 'USD': 92251.65240738312},\n",
       " {'fecha': '2024-11-21 00:00:00', 'USD': 94217.02229634205},\n",
       " {'fecha': '2024-11-22 00:00:00', 'USD': 98509.11859102432},\n",
       " {'fecha': '2024-11-23 00:00:00', 'USD': 98927.49494553401},\n",
       " {'fecha': '2024-11-24 00:00:00', 'USD': 97679.46381643033},\n",
       " {'fecha': '2024-11-25 00:00:00', 'USD': 98015.9355289458},\n",
       " {'fecha': '2024-11-26 00:00:00', 'USD': 93004.70093103287},\n",
       " {'fecha': '2024-11-27 00:00:00', 'USD': 91931.83077291827},\n",
       " {'fecha': '2024-11-28 00:00:00', 'USD': 95981.18057210564},\n",
       " {'fecha': '2024-11-29 00:00:00', 'USD': 95661.59595817851},\n",
       " {'fecha': '2024-11-30 00:00:00', 'USD': 97453.2473451042},\n",
       " {'fecha': '2024-12-01 00:00:00', 'USD': 96513.14234698225},\n",
       " {'fecha': '2024-12-02 00:00:00', 'USD': 97311.70719084324},\n",
       " {'fecha': '2024-12-03 00:00:00', 'USD': 95833.1362300365},\n",
       " {'fecha': '2024-12-04 00:00:00', 'USD': 96031.63097759831},\n",
       " {'fecha': '2024-12-05 00:00:00', 'USD': 98881.4694561823},\n",
       " {'fecha': '2024-12-06 00:00:00', 'USD': 97201.50036407741},\n",
       " {'fecha': '2024-12-07 00:00:00', 'USD': 99973.85150659826},\n",
       " {'fecha': '2024-12-08 00:00:00', 'USD': 99781.82999198174},\n",
       " {'fecha': '2024-12-09 00:00:00', 'USD': 101235.3717025316},\n",
       " {'fecha': '2024-12-10 00:00:00', 'USD': 97353.94700820887},\n",
       " {'fecha': '2024-12-11 00:00:00', 'USD': 96649.71446771531},\n",
       " {'fecha': '2024-12-12 00:00:00', 'USD': 101123.61811033697},\n",
       " {'fecha': '2024-12-13 00:00:00', 'USD': 100000.80836535197},\n",
       " {'fecha': '2024-12-14 00:00:00', 'USD': 101352.22971292294},\n",
       " {'fecha': '2024-12-15 00:00:00', 'USD': 101367.01064553364},\n",
       " {'fecha': '2024-12-16 00:00:00', 'USD': 104721.50151808978},\n",
       " {'fecha': '2024-12-17 00:00:00', 'USD': 106074.10723541168},\n",
       " {'fecha': '2024-12-18 00:00:00', 'USD': 106034.913402645},\n",
       " {'fecha': '2024-12-19 00:00:00', 'USD': 100355.5761481501},\n",
       " {'fecha': '2024-12-20 00:00:00', 'USD': 97851.35377075805},\n",
       " {'fecha': '2024-12-21 00:00:00', 'USD': 97691.43431692653},\n",
       " {'fecha': '2024-12-22 00:00:00', 'USD': 97202.82496847633},\n",
       " {'fecha': '2024-12-23 00:00:00', 'USD': 95094.27394862173},\n",
       " {'fecha': '2024-12-24 00:00:00', 'USD': 94644.91085464321},\n",
       " {'fecha': '2024-12-25 00:00:00', 'USD': 98695.71400782601},\n",
       " {'fecha': '2024-12-26 00:00:00', 'USD': 99344.95417367229},\n",
       " {'fecha': '2024-12-27 00:00:00', 'USD': 95678.31244565405},\n",
       " {'fecha': '2024-12-28 00:00:00', 'USD': 94331.94727053077},\n",
       " {'fecha': '2024-12-29 00:00:00', 'USD': 95184.61945288602},\n",
       " {'fecha': '2024-12-30 00:00:00', 'USD': 93663.44751964067},\n",
       " {'fecha': '2024-12-31 00:00:00', 'USD': 92627.28213113277}]"
      ]
     },
     "execution_count": 17,
     "metadata": {},
     "output_type": "execute_result"
    }
   ],
   "source": [
    "#Verificar datos\n",
    "listaUSDate"
   ]
  },
  {
   "cell_type": "code",
   "execution_count": 18,
   "id": "a49fa9f6",
   "metadata": {},
   "outputs": [
    {
     "data": {
      "text/plain": [
       "122"
      ]
     },
     "execution_count": 18,
     "metadata": {},
     "output_type": "execute_result"
    }
   ],
   "source": [
    "#largo de la lista\n",
    "len(listaUSDate)"
   ]
  },
  {
   "cell_type": "code",
   "execution_count": 19,
   "id": "15be2207",
   "metadata": {},
   "outputs": [
    {
     "name": "stdout",
     "output_type": "stream",
     "text": [
      "+------------------+-------------------+\n",
      "|               USD|              fecha|\n",
      "+------------------+-------------------+\n",
      "| 58960.23658664587|2024-09-01 00:00:00|\n",
      "| 57357.71617282246|2024-09-02 00:00:00|\n",
      "| 59108.73235863689|2024-09-03 00:00:00|\n",
      "|57504.538586220435|2024-09-04 00:00:00|\n",
      "| 57987.84601410068|2024-09-05 00:00:00|\n",
      "|56132.404732088595|2024-09-06 00:00:00|\n",
      "| 53923.35611071905|2024-09-07 00:00:00|\n",
      "|  54150.9383589072|2024-09-08 00:00:00|\n",
      "| 54792.40755768575|2024-09-09 00:00:00|\n",
      "|57049.118751143265|2024-09-10 00:00:00|\n",
      "| 57624.16178336144|2024-09-11 00:00:00|\n",
      "|57381.764445000474|2024-09-12 00:00:00|\n",
      "|58106.951229815284|2024-09-13 00:00:00|\n",
      "| 60620.62747295754|2024-09-14 00:00:00|\n",
      "| 60003.29940083042|2024-09-15 00:00:00|\n",
      "| 59214.80226801806|2024-09-16 00:00:00|\n",
      "|58211.123231286256|2024-09-17 00:00:00|\n",
      "|  60317.0319794625|2024-09-18 00:00:00|\n",
      "| 61440.41208494509|2024-09-19 00:00:00|\n",
      "| 62966.52931910512|2024-09-20 00:00:00|\n",
      "+------------------+-------------------+\n",
      "only showing top 20 rows\n",
      "\n"
     ]
    },
    {
     "data": {
      "text/plain": [
       "122"
      ]
     },
     "execution_count": 19,
     "metadata": {},
     "output_type": "execute_result"
    }
   ],
   "source": [
    "#Creación del dataframe y verificar la cifra\n",
    "dfListaUSD = spark.createDataFrame(listaUSDate)\n",
    "dfListaUSD.show()\n",
    "dfListaUSD.count()"
   ]
  },
  {
   "cell_type": "code",
   "execution_count": 21,
   "id": "981f738c",
   "metadata": {},
   "outputs": [
    {
     "name": "stdout",
     "output_type": "stream",
     "text": [
      "+------------------+-------------------+\n",
      "|               USD|              fecha|\n",
      "+------------------+-------------------+\n",
      "| 58960.23658664587|2024-09-01 00:00:00|\n",
      "| 57357.71617282246|2024-09-02 00:00:00|\n",
      "| 59108.73235863689|2024-09-03 00:00:00|\n",
      "|57504.538586220435|2024-09-04 00:00:00|\n",
      "| 57987.84601410068|2024-09-05 00:00:00|\n",
      "|56132.404732088595|2024-09-06 00:00:00|\n",
      "| 53923.35611071905|2024-09-07 00:00:00|\n",
      "|  54150.9383589072|2024-09-08 00:00:00|\n",
      "| 54792.40755768575|2024-09-09 00:00:00|\n",
      "|57049.118751143265|2024-09-10 00:00:00|\n",
      "| 57624.16178336144|2024-09-11 00:00:00|\n",
      "|57381.764445000474|2024-09-12 00:00:00|\n",
      "|58106.951229815284|2024-09-13 00:00:00|\n",
      "| 60620.62747295754|2024-09-14 00:00:00|\n",
      "| 60003.29940083042|2024-09-15 00:00:00|\n",
      "| 59214.80226801806|2024-09-16 00:00:00|\n",
      "|58211.123231286256|2024-09-17 00:00:00|\n",
      "|  60317.0319794625|2024-09-18 00:00:00|\n",
      "| 61440.41208494509|2024-09-19 00:00:00|\n",
      "| 62966.52931910512|2024-09-20 00:00:00|\n",
      "+------------------+-------------------+\n",
      "only showing top 20 rows\n",
      "\n",
      "+--------+\n",
      "|count(1)|\n",
      "+--------+\n",
      "|     122|\n",
      "+--------+\n",
      "\n"
     ]
    }
   ],
   "source": [
    "#Crear la tabla Iceberg\n",
    "spark.sql(\"CREATE TABLE iceberg.BitCoinsLastQ2024 (usd double, fecha date) USING iceberg;\")\n",
    "\n",
    "# Cambiar de DataFrame a Tabla Iceberg\n",
    "dfListaUSD.writeTo(\"iceberg.BitCoinsLastQ2024\").using(\"iceberg\").createOrReplace()\n",
    "\n",
    "# Query para visualizar la información\n",
    "spark.sql(\"SELECT * FROM iceberg.BitCoinsLastQ2024\").show()\n",
    "# Query para contar el número de registros\n",
    "spark.sql(\"SELECT count(*) FROM iceberg.BitCoinsLastQ2024\").show()"
   ]
  },
  {
   "cell_type": "code",
   "execution_count": 22,
   "id": "810efd6d",
   "metadata": {},
   "outputs": [
    {
     "name": "stdout",
     "output_type": "stream",
     "text": [
      "25/04/25 23:15:56 WARN WindowExec: No Partition Defined for Window operation! Moving all data to a single partition, this can cause serious performance degradation.\n",
      "25/04/25 23:15:56 WARN WindowExec: No Partition Defined for Window operation! Moving all data to a single partition, this can cause serious performance degradation.\n",
      "25/04/25 23:15:56 WARN WindowExec: No Partition Defined for Window operation! Moving all data to a single partition, this can cause serious performance degradation.\n",
      "25/04/25 23:15:57 WARN WindowExec: No Partition Defined for Window operation! Moving all data to a single partition, this can cause serious performance degradation.\n",
      "25/04/25 23:15:57 WARN WindowExec: No Partition Defined for Window operation! Moving all data to a single partition, this can cause serious performance degradation.\n",
      "+------------------+-------------------+------------------+\n",
      "|               USD|              fecha|    media_movil_5d|\n",
      "+------------------+-------------------+------------------+\n",
      "| 58960.23658664587|2024-09-01 00:00:00| 58960.23658664587|\n",
      "| 57357.71617282246|2024-09-02 00:00:00|58158.976379734166|\n",
      "| 59108.73235863689|2024-09-03 00:00:00| 58475.56170603507|\n",
      "|57504.538586220435|2024-09-04 00:00:00| 58232.80592608141|\n",
      "| 57987.84601410068|2024-09-05 00:00:00|58183.813943685265|\n",
      "|56132.404732088595|2024-09-06 00:00:00| 57618.24757277381|\n",
      "| 53923.35611071905|2024-09-07 00:00:00|56931.375560353124|\n",
      "|  54150.9383589072|2024-09-08 00:00:00| 55939.81676040719|\n",
      "| 54792.40755768575|2024-09-09 00:00:00| 55397.39055470026|\n",
      "|57049.118751143265|2024-09-10 00:00:00| 55209.64510210877|\n",
      "| 57624.16178336144|2024-09-11 00:00:00| 55507.99651236334|\n",
      "|57381.764445000474|2024-09-12 00:00:00| 56199.67817921962|\n",
      "|58106.951229815284|2024-09-13 00:00:00|56990.880753401245|\n",
      "| 60620.62747295754|2024-09-14 00:00:00|  58156.5247364556|\n",
      "| 60003.29940083042|2024-09-15 00:00:00|58747.360866393035|\n",
      "| 59214.80226801806|2024-09-16 00:00:00| 59065.48896332436|\n",
      "|58211.123231286256|2024-09-17 00:00:00| 59231.36072058151|\n",
      "|  60317.0319794625|2024-09-18 00:00:00| 59673.37687051095|\n",
      "| 61440.41208494509|2024-09-19 00:00:00| 59837.33379290847|\n",
      "| 62966.52931910512|2024-09-20 00:00:00|  60429.9797765634|\n",
      "+------------------+-------------------+------------------+\n",
      "only showing top 20 rows\n",
      "\n"
     ]
    }
   ],
   "source": [
    "#Use the data previously stored in the database to calculate the 5-day moving average \n",
    "#using a window/partition function in Python (you may use either pandas or PySpark).\n",
    "\n",
    "from pyspark.sql.window import Window\n",
    "from pyspark.sql.functions import avg\n",
    "\n",
    "# Definir ventana de 5 días hacia atrás\n",
    "window_spec = Window.orderBy(\"fecha\").rowsBetween(-4, 0)\n",
    "\n",
    "# Calcular la media móvil de 5 días\n",
    "dfWindow = dfListaUSD.withColumn(\"media_movil_5d\", avg(\"usd\").over(window_spec))\n",
    "dfWindow.show()"
   ]
  },
  {
   "cell_type": "code",
   "execution_count": 23,
   "id": "f12cf2d8",
   "metadata": {},
   "outputs": [
    {
     "name": "stdout",
     "output_type": "stream",
     "text": [
      "25/04/25 23:16:06 WARN WindowExec: No Partition Defined for Window operation! Moving all data to a single partition, this can cause serious performance degradation.\n",
      "25/04/25 23:16:06 WARN WindowExec: No Partition Defined for Window operation! Moving all data to a single partition, this can cause serious performance degradation.\n",
      "25/04/25 23:16:06 WARN WindowExec: No Partition Defined for Window operation! Moving all data to a single partition, this can cause serious performance degradation.\n",
      "25/04/25 23:16:06 WARN WindowExec: No Partition Defined for Window operation! Moving all data to a single partition, this can cause serious performance degradation.\n"
     ]
    }
   ],
   "source": [
    "import pandas as pd\n",
    "#Use a tool of your choice to visualize the results in a graph\n",
    "dfPandas = dfWindow.orderBy(\"fecha\").toPandas()"
   ]
  },
  {
   "cell_type": "code",
   "execution_count": 26,
   "id": "af1b11f5",
   "metadata": {},
   "outputs": [
    {
     "data": {
      "image/png": "[encoded data removed]",
      "text/plain": [
       "<Figure size 1200x600 with 1 Axes>"
      ]
     },
     "metadata": {},
     "output_type": "display_data"
    }
   ],
   "source": [
    "import matplotlib.pyplot as plt\n",
    "\n",
    "plt.figure(figsize=(12, 6))\n",
    "plt.plot(dfPandas['fecha'], dfPandas['USD'], label='Precio BTC (USD)', color='blue')\n",
    "plt.plot(dfPandas['fecha'], dfPandas['media_movil_5d'], label='Media Móvil 5 días', color='orange')\n",
    "plt.title('Precio de Bitcoin y Media Móvil de 5 Días')\n",
    "plt.xlabel('Fecha')\n",
    "plt.ylabel('Precio en USD')\n",
    "plt.legend()\n",
    "plt.grid(True)\n",
    "plt.tight_layout()\n",
    "plt.show()"
   ]
  },
  {
   "cell_type": "code",
   "execution_count": null,
   "id": "1aebb03b",
   "metadata": {},
   "outputs": [],
   "source": []
  }
 ],
 "metadata": {
  "kernelspec": {
   "display_name": "Python 3 (ipykernel)",
   "language": "python",
   "name": "python3"
  },
  "language_info": {
   "codemirror_mode": {
    "name": "ipython",
    "version": 3
   },
   "file_extension": ".py",
   "mimetype": "text/x-python",
   "name": "python",
   "nbconvert_exporter": "python",
   "pygments_lexer": "ipython3",
   "version": "3.10.6"
  }
 },
 "nbformat": 4,
 "nbformat_minor": 5
}
